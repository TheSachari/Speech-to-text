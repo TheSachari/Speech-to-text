{
 "cells": [
  {
   "cell_type": "code",
   "execution_count": 1,
   "id": "4653f8f9-5e5b-40c8-a1e6-27dd9f6fa211",
   "metadata": {},
   "outputs": [],
   "source": [
    "import queue, threading, time\n",
    "import numpy as np\n",
    "import sounddevice as sd\n",
    "from faster_whisper import WhisperModel"
   ]
  },
  {
   "cell_type": "code",
   "execution_count": 3,
   "id": "b58aba46-d85b-440a-9942-e0b1e9976206",
   "metadata": {},
   "outputs": [
    {
     "data": {
      "text/plain": [
       "\"Non....Merci.Non, non, non.Non, non, non, non, non.Et on y va.et on y a une...Alors, je m'en occupe.Alors, je m'en occupe.Alors, je m'en occupe.Alors, je m'en occupe.Je m'en occupe le dessus.Je m'en occupe.Merci.Comme c'est...C'est comme ça.C'est bon.le constat.C'est comme ça.C'est comme ça.C'est bon, c'est bon....Ok, ça marche.Ok, ça marche pas, hein?Ok, ça marche pas, hein?Ok, ça marche pas, hein?Ok, ça marche pas, hein?Ok, ça marche pas, hein.ça marche pas.C'est bon.C'est un bon moment.C'est un bon moment.C'est un bon moment.C'est pas mon nom.T'es un peu ouner, c'est une épingle.Oh non, c'est une épidie.de détruire.Je vais vous détruire.C'est bon.C'est bon.Non.Ah, c'est bon.Non.Ah, c'est bon. Non.Alors...Allô !Alors...Alors, non.Alors, non.Alors, non.Non.Non, non.Non, non.Non, non.Non, non.Non. Non....Parle-t-je ?Arrête-t-je, Max ?Le T-Short, c'est divers.Le tige m'a que c'est diversif...Alors le tige m'a accepté diverses et rien n'a pas fait.le t-shirt que c'est divers, c'est rien que la suite.Et si je m'accélère, c'est un peu plus tard.Je ne m'accueille pas.Je sais que je vais se réunir, je peux pas le voir.Je vais vous faire un petit peu plus tard.C'est un peu plus possible.C'est très bien.C'est pas assez bien.N'en s'y rote.Merci le 3le trois.Bon, voilà.Oh !Oh !Non, non.Ah, non, non.Non, non.Oh, bon.Non, non.D'accord.C'est impossible.C'est fou, c'est fou.Il est fou, c'est 23.Il est fou, c'est 23.On dirait que 4, c'est 23.4, 5, 2, 3.1, 2, 3.1.Je vous invite à vous faire une autre vidéo.Merci.Allez, on va y aller.J'ai eu un scard d'air.Allez, on va se couper d'autre.C'est un peu d'offre.La rescale d'un petit coup.Je vais vous construire la crée d'eau.Le screw-down, c'est très cool.C'est un peu la scarde là, c'est très cool.C'est bien, c'est bien.J'ai l'air très vite.Je suis très douce que...Je vais pas y tomber, je vais pas y tomber.J'apparie donc, j'apparie donc...Je ne sais pas le truc, je ne sais pas le truc.J'ai tout de ce que j'ai fait.que tu peux faire une tour.Arrêtez-vous !Je suis au bord de la taille.Je vous invite...Je veux pas être...Je vous rappelle tout.Rappartueur...Merci.Thank you.Merci.S'il vous plaît.S'il vous plaît.C'est un qui est...Merci.Merci.C'est un peu...C'est à peu près.C'est pas possible, hein ?C'est pas de calme, c'est vraiment une vraie...C'est à peu que j'ai rien dit, quoi.Il s'est à cause de rien, c'est rien.C'est pas possible.c'est pas comme ça...Je vous invite à vous faire une autre vidéo.Ok, on va ?Excusez-moi.D'accord, c'est ça...Je vais faire ce que ça va.C'est ça, on va faire ça.C'est ça moi ?C'est ça ?Allez, on va y aller.Il y a un parier.Allez, on va y aller, c'est comme...Allez, on va y aller, puis on va s'y conforme.Il y a un parier, il y a un petit compte en temps.J'ai pris le premier à l'aiseur.avec un câlant d'héros.C'est comme un telle !il faut qu'il y ait un tel.C'est très bon, t'es là.C'est bon....On est au pingueur.Le nouveau pic du chemin n'a rien volé.Un nouveau pic de chaleur arrive vraiment là-dedit.Le pique de chaleur arrive vraiment là-dedit.Je suis vraiment aimée pour moi-dedans....\""
      ]
     },
     "metadata": {},
     "output_type": "display_data"
    }
   ],
   "source": [
    "# stt_live_stable.py\n",
    "import argparse, sys, time, queue\n",
    "import numpy as np\n",
    "import sounddevice as sd\n",
    "from faster_whisper import WhisperModel\n",
    "\n",
    "def main():\n",
    "    ap = argparse.ArgumentParser()\n",
    "    ap.add_argument(\"--device\", type=int, default=None)\n",
    "    ap.add_argument(\"--model\",  type=str, default=\"tiny\")\n",
    "    ap.add_argument(\"--sr\",     type=int, default=16000)\n",
    "    ap.add_argument(\"--block\",  type=float, default=0.25)\n",
    "    ap.add_argument(\"--window\", type=float, default=2.0)\n",
    "    ap.add_argument(\"--gpu\",    action=\"store_true\")\n",
    "    ap.add_argument(\"--vad\",    action=\"store_true\", default=True)\n",
    "    ap.add_argument(\"--stable_n\", type=int, default=3, help=\"nb d'itérations identiques avant de figer\")\n",
    "    args = ap.parse_args()\n",
    "\n",
    "    device = \"cuda\" if args.gpu else \"cpu\"\n",
    "    compute = \"float16\" if args.gpu else \"int8\"\n",
    "\n",
    "    model = WhisperModel(args.model, device=device, compute_type=compute)\n",
    "\n",
    "    q = queue.Queue()\n",
    "    ring = np.zeros(int(args.sr*args.window), dtype=np.float32)\n",
    "\n",
    "    def cb(indata, frames, time_info, status):\n",
    "        if status:\n",
    "            print(status, file=sys.stderr)\n",
    "        q.put(indata[:,0].astype(np.float32).copy())\n",
    "\n",
    "    print(\"🎤 Parlez… (Ctrl+C pour quitter)\")\n",
    "    with sd.InputStream(channels=1, samplerate=args.sr,\n",
    "                        blocksize=int(args.sr*args.block),\n",
    "                        dtype=\"float32\", device=args.device, callback=cb):\n",
    "        confirmed = \"\"          # texte figé (imprimé avec \\n)\n",
    "        pending = \"\"            # hypothèse courante (réécrite sur la même ligne)\n",
    "        stable_count = 0\n",
    "\n",
    "        while True:\n",
    "            blk = q.get()\n",
    "            # maj fenêtre\n",
    "            n = len(blk)\n",
    "            ring = np.concatenate([ring[n:], blk])\n",
    "\n",
    "            # transcription\n",
    "            segs, _ = model.transcribe(\n",
    "                ring,\n",
    "                language=\"fr\",\n",
    "                beam_size=1,\n",
    "                vad_filter=args.vad,\n",
    "                vad_parameters={\"min_silence_duration_ms\": 250},\n",
    "                without_timestamps=True,\n",
    "                condition_on_previous_text=True,\n",
    "            )\n",
    "            hyp = \"\".join(s.text for s in segs).strip()\n",
    "\n",
    "            # ne garde que la partie non encore confirmée\n",
    "            if hyp.startswith(confirmed):\n",
    "                cur = hyp[len(confirmed):]\n",
    "            else:\n",
    "                # si le modèle réécrit tout, on repart de zéro sur pending\n",
    "                cur = hyp\n",
    "\n",
    "            if cur == pending:\n",
    "                stable_count += 1\n",
    "            else:\n",
    "                pending = cur\n",
    "                stable_count = 1\n",
    "\n",
    "            # affiche la ligne courante (réécrite)\n",
    "            line = \"\\r\" + confirmed + pending\n",
    "            print(line + \" \" * 6, end=\"\", flush=True)  # padding pour effacer restes\n",
    "\n",
    "            # conditions de figement : ponctuation forte OU stabilité N fois\n",
    "            if pending.endswith((\".\", \"!\", \"?\", \"…\")) or stable_count >= args.stable_n:\n",
    "                confirmed += pending\n",
    "                pending = \"\"\n",
    "                stable_count = 0\n",
    "                print()  # nouvelle ligne pour le texte figé\n",
    "\n",
    "if __name__ == \"__main__\":\n",
    "    try:\n",
    "        main()\n",
    "    except KeyboardInterrupt:\n",
    "        print()\n"
   ]
  }
 ],
 "metadata": {
  "kernelspec": {
   "display_name": "Python 3 (ipykernel)",
   "language": "python",
   "name": "python3"
  },
  "language_info": {
   "codemirror_mode": {
    "name": "ipython",
    "version": 3
   },
   "file_extension": ".py",
   "mimetype": "text/x-python",
   "name": "python",
   "nbconvert_exporter": "python",
   "pygments_lexer": "ipython3",
   "version": "3.12.3"
  }
 },
 "nbformat": 4,
 "nbformat_minor": 5
}
